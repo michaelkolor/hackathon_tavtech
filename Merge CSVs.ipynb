{
 "cells": [
  {
   "cell_type": "code",
   "execution_count": 8,
   "metadata": {},
   "outputs": [],
   "source": [
    "import pandas as pd\n",
    "\n",
    "file = pd.read_csv(\"6.csv\")\n",
    "# \tprint(file.head(10))\n"
   ]
  },
  {
   "cell_type": "code",
   "execution_count": 15,
   "metadata": {},
   "outputs": [
    {
     "name": "stderr",
     "output_type": "stream",
     "text": [
      "C:\\Users\\megas\\Anaconda3\\lib\\site-packages\\ipykernel_launcher.py:28: FutureWarning: Sorting because non-concatenation axis is not aligned. A future version\n",
      "of pandas will change to not sort by default.\n",
      "\n",
      "To accept the future behavior, pass 'sort=False'.\n",
      "\n",
      "To retain the current behavior and silence the warning, pass 'sort=True'.\n",
      "\n"
     ]
    },
    {
     "name": "stdout",
     "output_type": "stream",
     "text": [
      "(14, 444)\n",
      "(7833, 446)\n",
      "(452, 157)\n",
      "569\n",
      "(8299, 489)\n"
     ]
    }
   ],
   "source": [
    "import pandas as pd\n",
    "frames = []\n",
    "\n",
    "pd_1_a = pd.read_csv(\"1_a\"+\".csv\")\n",
    "pd_1_b = pd.read_csv(\"1_b\"+\".csv\")\n",
    "pd_2_a = pd.read_csv(\"2_a\"+\".csv\")\n",
    "pd_2_b = pd.read_csv(\"2_b\"+\".csv\")\n",
    "pd_3_a = pd.read_csv(\"3_a\"+\".csv\")\n",
    "pd_3_b = pd.read_csv(\"3_b\"+\".csv\")\n",
    "pd_4_a = pd.read_csv(\"4_a\"+\".csv\")\n",
    "pd_4_b = pd.read_csv(\"4_b\"+\".csv\")\n",
    "pd_5_a = pd.read_csv(\"5_a\"+\".csv\")\n",
    "pd_6 = pd.read_csv(\"6\"+\".csv\")\n",
    "\n",
    "list1 = set(list(pd_1_a))\n",
    "list2 = set(list(pd_1_b))\n",
    "\n",
    "list3 = list(list1.intersection(list2))\n",
    "# print(list3) only incommon are population, hebrew name, locality code\n",
    "\n",
    "merged_1 = pd_1_a.merge(pd_1_b, left_on='LocNameHeb', right_on='LocNameHeb', how='inner')\n",
    "merged_2 = pd_2_a.merge(pd_2_b, left_on='LocNameHeb', right_on='LocNameHeb', how='inner')\n",
    "# merged_3 = pd_3_a.merge(pd_3_b, left_on='LocNameHeb', right_on='LocNameHeb', how='inner')\n",
    "merged_4 = pd_4_a.merge(pd_4_b, left_on='LocNameHeb', right_on='LocNameHeb', how='inner')\n",
    "\n",
    "listOfFiles = [merged_1, merged_2, merged_4]\n",
    "\n",
    "finalFile = pd.concat(listOfFiles)\n",
    "\n",
    "# print(pd_1_a.shape)\n",
    "# print(pd_1_b.shape)\n",
    "\n",
    "print(merged_1.shape)\n",
    "print(merged_2.shape)\n",
    "# print(merged_3.shape)\n",
    "print(merged_4.shape)\n",
    "\n",
    "#print(finalFile.shape)\n",
    "x = list(finalFile['LocNameHeb'])\n",
    "x = list(set(x))\n",
    "print(len(x))\n",
    "\n",
    "#finalFile.to_csv('finalMerged.csv')\n",
    "\n",
    "finalFile = finalFile.drop_duplicates()\n",
    "print(finalFile.shape)\n"
   ]
  },
  {
   "cell_type": "code",
   "execution_count": 16,
   "metadata": {
    "scrolled": false
   },
   "outputs": [
    {
     "name": "stdout",
     "output_type": "stream",
     "text": [
      "common: 353\n",
      "(8299, 489)\n",
      "(353, 2)\n",
      "(8299, 491)\n"
     ]
    }
   ],
   "source": [
    "file = pd.read_csv(\"tzeva_adom_alerts.csv\")\n",
    "x = (file['place'])\n",
    "x = set(x)\n",
    "\n",
    "y = finalFile['LocNameHeb']\n",
    "y = set(y)\n",
    "\n",
    "common = list(x.intersection(y))\n",
    "print(\"common:\" ,len(common))\n",
    "\n",
    "#doTheyMatch = finalFile.merge(file, left_on = \"LocNameHeb\", right_on = \"place\", how = 'right')\n",
    "#print(doTheyMatch.shape)\n",
    "#print(doTheyMatch.head)\n",
    "\n",
    "countsDF = pd.DataFrame()\n",
    "countsDF['place'] = common\n",
    "counts = []\n",
    "\n",
    "for city in common:\n",
    "#     print(city, file.place.value_counts()[city])\n",
    "    counts.append(file.place.value_counts()[city])\n",
    "    \n",
    "countsDF['count'] = counts\n",
    "# countsDF.to_csv('missileStrikeCounts.csv')\n",
    "\n",
    "print(finalFile.shape)\n",
    "print(countsDF.shape)\n",
    "\n",
    "merged2 = finalFile.merge(countsDF, left_on = 'LocNameHeb', right_on = 'place', how = 'left')\n",
    "print(merged2.shape)\n",
    "\n",
    "# merged2.to_csv('mergedCensusMissileStrikeCounts.csv')\n",
    "\n",
    "places = list(merged2['place'])\n",
    "#for item in places:\n",
    "#     print(item)\n",
    "\n",
    "\n"
   ]
  },
  {
   "cell_type": "code",
   "execution_count": null,
   "metadata": {},
   "outputs": [],
   "source": []
  }
 ],
 "metadata": {
  "kernelspec": {
   "display_name": "Python 3",
   "language": "python",
   "name": "python3"
  },
  "language_info": {
   "codemirror_mode": {
    "name": "ipython",
    "version": 3
   },
   "file_extension": ".py",
   "mimetype": "text/x-python",
   "name": "python",
   "nbconvert_exporter": "python",
   "pygments_lexer": "ipython3",
   "version": "3.7.0"
  }
 },
 "nbformat": 4,
 "nbformat_minor": 2
}
