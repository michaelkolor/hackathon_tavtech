{
 "cells": [
  {
   "cell_type": "code",
   "execution_count": 5,
   "metadata": {},
   "outputs": [],
   "source": [
    "# imports\n",
    "import pandas as pd\n",
    "from sklearn.linear_model import LinearRegression\n",
    "from sklearn.model_selection import train_test_split\n",
    "from sklearn.metrics import r2_score"
   ]
  },
  {
   "cell_type": "code",
   "execution_count": 6,
   "metadata": {},
   "outputs": [],
   "source": [
    "# Get Data\n",
    "data = pd.read_csv(\"FINAL_DATA_USED_FOR_LINEAR_REGRESSION.csv\")\n",
    "X = data.copy().drop(columns=\"count\")\n",
    "y = data[\"count\"]\n",
    "\n",
    "# split\n",
    "X_train, X_test, y_train, y_test = train_test_split(X, y, test_size=0.2, random_state=42)"
   ]
  },
  {
   "cell_type": "code",
   "execution_count": 7,
   "metadata": {},
   "outputs": [
    {
     "name": "stdout",
     "output_type": "stream",
     "text": [
      "\u001b[1mR^2 Score on Test Set for Linear Model Predicting Rocket Instances:\u001b[0m 0.8970193631980956\n"
     ]
    }
   ],
   "source": [
    "# Fit Model\n",
    "final_model = LinearRegression()\n",
    "final_model.fit(X=X_train, y=y_train)\n",
    "\n",
    "# Print Results\n",
    "print(\"\\033[1mR^2 Score on Test Set for Linear Model Predicting Rocket Instances:\\033[0m {0}\".format(r2_score(y_test, final_model.predict(X_test))))"
   ]
  },
  {
   "cell_type": "code",
   "execution_count": null,
   "metadata": {},
   "outputs": [],
   "source": []
  }
 ],
 "metadata": {
  "kernelspec": {
   "display_name": "Python 3",
   "language": "python",
   "name": "python3"
  },
  "language_info": {
   "codemirror_mode": {
    "name": "ipython",
    "version": 3
   },
   "file_extension": ".py",
   "mimetype": "text/x-python",
   "name": "python",
   "nbconvert_exporter": "python",
   "pygments_lexer": "ipython3",
   "version": "3.6.7"
  }
 },
 "nbformat": 4,
 "nbformat_minor": 2
}
