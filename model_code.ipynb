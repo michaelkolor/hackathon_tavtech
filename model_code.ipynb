{
 "cells": [
  {
   "cell_type": "code",
   "execution_count": 137,
   "metadata": {},
   "outputs": [],
   "source": [
    "import pandas as pd\n",
    "from sklearn.linear_model import LogisticRegression\n",
    "from sklearn.preprocessing import MinMaxScaler"
   ]
  },
  {
   "cell_type": "code",
   "execution_count": 23,
   "metadata": {},
   "outputs": [],
   "source": [
    "## FEATURE SELECTION IMPORTS\n",
    "\n",
    "import warnings\n",
    "warnings.filterwarnings('ignore')\n",
    "import numpy as np\n",
    "import pandas as pd\n",
    "import matplotlib\n",
    "import matplotlib.pyplot as plt\n",
    "from sklearn.metrics import r2_score\n",
    "from sklearn.preprocessing import PolynomialFeatures\n",
    "from sklearn.linear_model import Ridge\n",
    "from sklearn.linear_model import Lasso\n",
    "from sklearn.linear_model import RidgeCV\n",
    "from sklearn.linear_model import LassoCV\n",
    "from sklearn.linear_model import LinearRegression\n",
    "from sklearn.preprocessing import StandardScaler\n",
    "from sklearn.model_selection import train_test_split\n",
    "from sklearn.model_selection import cross_val_score\n",
    "from sklearn.model_selection import LeaveOneOut\n",
    "from sklearn.model_selection import KFold\n",
    "\n",
    "#import statsmodels.api as sm\n",
    "\n",
    "from pandas.core import datetools\n",
    "%matplotlib inline"
   ]
  },
  {
   "cell_type": "code",
   "execution_count": 12,
   "metadata": {},
   "outputs": [],
   "source": [
    "missiles = pd.read_csv(\"data_missile_coordinate_distanceGaza.csv\")\n",
    "\n",
    "missiles = pd.read_csv(\"missileStrikeCounts.csv\").drop(columns=[\"Unnamed: 0\"])"
   ]
  },
  {
   "cell_type": "code",
   "execution_count": 13,
   "metadata": {},
   "outputs": [],
   "source": [
    "census = pd.read_csv(\"census_with_gaza-Copy1.csv\")"
   ]
  },
  {
   "cell_type": "code",
   "execution_count": 19,
   "metadata": {},
   "outputs": [
    {
     "data": {
      "text/plain": [
       "381632.0"
      ]
     },
     "execution_count": 19,
     "metadata": {},
     "output_type": "execute_result"
    }
   ],
   "source": [
    "data = pd.merge(census, missiles, how=\"left\", right_on=\"place\", left_on=\"LocNameHeb\")\n",
    "#sum(data[\"missile\"].isnull())\n",
    "#sum(data.missile)\n",
    "data[\"count\"] = data[\"count\"].fillna(0)\n",
    "sum(data[\"count\"])\n",
    "\n",
    "#pd.DataFrame(census.LocNameHeb.unique()).to_csv(\"census_names.csv\")"
   ]
  },
  {
   "cell_type": "code",
   "execution_count": 20,
   "metadata": {},
   "outputs": [],
   "source": [
    "new_data = pd.get_dummies(data)"
   ]
  },
  {
   "cell_type": "code",
   "execution_count": 21,
   "metadata": {},
   "outputs": [
    {
     "data": {
      "text/plain": [
       "Index(['Unnamed: 0', 'latitude', 'longitude', 'Unnamed: 0.1',\n",
       "       'Acadm1Cert_pcnt', 'Acadm2Cert_pcnt', 'AcadmCert_pcnt', 'Bicycle_pcnt',\n",
       "       'Bus_pcnt', 'CarDrvr_pcnt',\n",
       "       ...\n",
       "       'place_y_שקף', 'place_y_שתולים', 'place_y_תימורים',\n",
       "       'place_y_תלמי אלעזר', 'place_y_תלמי יחיאל', 'place_y_תלמים',\n",
       "       'place_y_תנובות', 'place_y_תקומה', 'place_y_תקוע', 'place_y_תרום'],\n",
       "      dtype='object', length=2825)"
      ]
     },
     "execution_count": 21,
     "metadata": {},
     "output_type": "execute_result"
    }
   ],
   "source": [
    "# Cleaning \n",
    "#Model\n",
    "new_data.columns"
   ]
  },
  {
   "cell_type": "code",
   "execution_count": 84,
   "metadata": {},
   "outputs": [],
   "source": [
    "missing_data = [i for i, x in enumerate((X.isna().sum() > 100)) if x]\n",
    "new_data.columns[missing_data]\n",
    "\n",
    "uint_data = [i for i, x in enumerate((X.dtypes == \"uint8\")) if x]"
   ]
  },
  {
   "cell_type": "code",
   "execution_count": 120,
   "metadata": {},
   "outputs": [
    {
     "data": {
      "text/plain": [
       "6630"
      ]
     },
     "execution_count": 120,
     "metadata": {},
     "output_type": "execute_result"
    }
   ],
   "source": [
    "X = new_data.drop(columns=\"count\")\n",
    "y = new_data[\"count\"]\n",
    "X = X.drop(columns=X.columns[missing_data])\n",
    "uint_data = [i for i, x in enumerate((X.dtypes == \"uint8\")) if x]\n",
    "X = X.drop(columns=X.columns[uint_data])\n",
    "#get rid of infinitys\n",
    "X.replace([np.inf, -np.inf], np.nan).dropna(subset=X.columns, how=\"all\")\n",
    "\n",
    "# Fix NA's, fill data with mean\n",
    "for column in X.columns:\n",
    "    X[column] = X[column].fillna(X[column].mean())\n",
    "    \n",
    "# split\n",
    "X_train, X_test, y_train, y_test = train_test_split(X, y, test_size=0.2, random_state=42)"
   ]
  },
  {
   "cell_type": "code",
   "execution_count": 123,
   "metadata": {},
   "outputs": [
    {
     "name": "stdout",
     "output_type": "stream",
     "text": [
      "\u001b[1mSignificant Predictors:\u001b[0m\n",
      "['Unnamed: 0', 'Unnamed: 0.1', 'Bicycle_pcnt', 'Bus_pcnt', 'CarDrvr_pcnt', 'CarPsngr_pcnt', 'DistrictCode', 'FiveYrsUnknSA_pcnt', 'IndstN_pcnt', 'IndstO_pcnt', 'LaborForceY_thou', 'MetrCode', 'NatRegCode', 'OnFoot_pcnt', 'OtherCertA_pcnt', 'OtherVehicle_pcnt', 'PostSecondaryCert_pcnt', 'SubDistrictCode', 'Train_pcnt', 'TypeLocCode', 'Vehicle1up_pcnt', 'Vehicle2up_pcnt', 'WorkPlace_pcnt', 'Wrk2008Y_pcnt', 'Wrk2008_15_17_pcnt', 'age10_14_pcnt', 'age15_24_thou', 'age25_29_pcnt', 'age30_34_pcnt', 'age40_44_pcnt', 'age55_64_thou', 'age65_thou', 'age75_79_pcnt', 'age80_84_pcnt', 'age85_pcnt', 'age_median', 'aliya1947_pcnt', 'aliya1960_pcnt', 'aliya2002_pcnt', 'aliya48_54_pcnt', 'aliya55_60_pcnt', 'aliya61_71_pcnt', 'aliya72_79_pcnt', 'aliya90_01_pcnt', 'cellphone_avg', 'divorced15_24_pcnt', 'divorced35_44_pcnt', 'divorced45_54_pcnt', 'divorced55_64_pcnt', 'dress65_pcnt', 'educ13_15_pcnt', 'educ13m_pcnt', 'educ8_pcnt', 'hh0_17_4_pcnt', 'hh0_17_5_pcnt', 'hh65_pcnt', 'inst_pcnt', 'm_IndstA_pcnt', 'm_IndstG_pcnt', 'm_IndstJ_pcnt', 'm_IndstO_pcnt', 'm_LaborForceY_thou', 'm_MarriageAge_mdn', 'm_Occup5_pcnt', 'm_OtherCertA_pcnt', 'm_PostSecondaryCert_pcnt', 'm_age0_4_pcnt', 'm_age10_14_pcnt', 'm_age15_24_thou', 'm_age15sef_thou', 'm_age20_24_pcnt', 'm_age30_34_pcnt', 'm_age40_44_pcnt', 'm_age55_59_pcnt', 'm_age55_64_thou', 'm_age65_69_pcnt', 'm_age65m_pcnt', 'm_age70_74_pcnt', 'm_age80_84_pcnt', 'm_divorced25_34_pcnt', 'm_divorced35_44_pcnt', 'm_educ13_15_pcnt', 'm_educ16_pcnt', 'm_educ9_12_pcnt', 'm_married15_24_pcnt', 'm_married25_34_pcnt', 'm_married35_44_pcnt', 'm_nevermarried15_24_pcnt', 'm_nevermarried25_34_pcnt', 'm_nevermarried35_44_pcnt', 'm_nevermarried45_54_pcnt', 'm_remember5_pcnt', 'm_widowed25_34_pcnt', 'married15_24_pcnt', 'married45_54_pcnt', 'married55_64_pcnt', 'nevermarried15_24_pcnt', 'nevermarried55_64_pcnt', 'remember65_pcnt', 'rm4_pcnt', 'rm5up_pcnt', 'rm6_pcnt', 'see65_pcnt', 'size5_pcnt', 'w_HrsWrkWk_avg', 'w_IndstC_pcnt', 'w_IndstF_pcnt', 'w_IndstJ_pcnt', 'w_IndstN_pcnt', 'w_LaborForceN_thou', 'w_MarriageAge_mdn', 'w_Occup2_pcnt', 'w_Occup5_pcnt', 'w_OccupX_pcnt', 'w_OtherCertA_pcnt', 'w_PostSecondaryCert_pcnt', 'w_TrnsprtMore_pcnt', 'w_TrnsprtOne_pcnt', 'w_age15_19_pcnt', 'w_age15_24_thou', 'w_age25_29_pcnt', 'w_age40_44_pcnt', 'w_age45_54_thou', 'w_age5_9_pcnt', 'w_age60_64_pcnt', 'w_age65_69_pcnt', 'w_age65_thou', 'w_age75_79_pcnt', 'w_divorced15_24_pcnt', 'w_divorced35_44_pcnt', 'w_divorced45_54_pcnt', 'w_divorced55_64_pcnt', 'w_divorced65_pcnt', 'w_divorced_pcnt', 'w_educ13_15_pcnt', 'w_educ16_pcnt', 'w_educ8_pcnt', 'w_educ9_12_pcnt', 'w_married35_44_pcnt', 'w_married45_54_pcnt', 'w_married55_64_pcnt', 'w_married65_pcnt', 'w_nevermarried15_24_pcnt', 'w_nevermarried45_54_pcnt', 'w_nevermarried55_64_pcnt', 'w_nevermarried65_pcnt', 'w_nevermarried_pcnt', 'w_notmarried_pcnt', 'w_see5_pcnt', 'w_widowed15_24_pcnt', 'w_widowed25_34_pcnt', 'w_widowed35_44_pcnt', 'w_widowed45_54_pcnt', 'w_widowed55_64_pcnt', 'w_widowed65_pcnt', 'walk5_pcnt', 'widowed15_24_pcnt', 'widowed25_34_pcnt', 'widowed45_54_pcnt', 'widowed55_64_pcnt', 'wrk2008m_pcnt', 'distance_from_gaza']\n"
     ]
    }
   ],
   "source": [
    "### FEATURE SELECTION\n",
    "\n",
    "# dataset_x should be a pandas dataframe\n",
    "\n",
    "## accepts dataset inputs as numpy arrays\n",
    "def make_bootstrap_sample(dataset_X, dataset_y, size = None):\n",
    "    \"\"\"Returns a bootstrap sample of the given data and size\n",
    "    \n",
    "    Args:\n",
    "        dataset_X: the Pandas dataframe of feature variables and values\n",
    "        dataset_y: the column vector of response values\n",
    "        size: the size of the Bootstrap sample with None as the default\n",
    "    \n",
    "    Returns:\n",
    "        Returns a tuple containing a dataframe containing the Bootstrap X-values and a list of Bootstrap y-values\n",
    "    \"\"\"\n",
    "    \n",
    "    # by default return a bootstrap sample of the same size as the original dataset\n",
    "    if not size: size = len(dataset_X)\n",
    "    \n",
    "    # if the X and y datasets aren't the same size, raise an exception\n",
    "    if len(dataset_X) != len(dataset_y):\n",
    "        raise Exception(\"Data size must match between dataset_X and dataset_y\")\n",
    "    \n",
    "    # Store an ndarray of random indices\n",
    "    inds_to_sample = np.random.choice(dataset_X.shape[0], size, replace = True)\n",
    "    \n",
    "    # Store the observations located at these indices in the Dataframe as the bootstrap sample data\n",
    "    bootstrap_dataset_X = dataset_X.iloc[inds_to_sample]\n",
    "    bootstrap_dataset_y = dataset_y.iloc[inds_to_sample]\n",
    "    \n",
    "    # return as a tuple the bootstrap samples of dataset_X as a pandas dataframe\n",
    "    # and the bootstrap samples of dataset y as a numpy column vector\n",
    "    return (bootstrap_dataset_X, bootstrap_dataset_y)\n",
    "    \n",
    "def calculate_coefficients(dataset_X, dataset_y, model):\n",
    "    \"\"\"Returns the Beta-coefficients of the given data fitted to the given model\n",
    "    \n",
    "    Args:\n",
    "        dataset_X: the Pandas dataframe of feature variables and values\n",
    "        dataset_y: the column vector of response values\n",
    "        model: the model object to be fitted with the given data\n",
    "    \n",
    "    Returns:\n",
    "        coefficients_dictionary: a dictionary containing the feature names as keys and the\n",
    "        coefficients as values.\"\"\"\n",
    "    \n",
    "    # Fit the data to the given model parameter\n",
    "    model.fit(dataset_X, dataset_y)\n",
    "    \n",
    "    # Initalize dictionary of coefficents\n",
    "    coefficients_dictionary = {}\n",
    "    \n",
    "    # Iterate through dataset coefficients and store them in the dictionary\n",
    "    for index, val in enumerate(model.coef_):\n",
    "        #print(val)\n",
    "        coefficients_dictionary[dataset_X.columns[index]] = val\n",
    "    \n",
    "    # return coefficients  in the variable  coefficients_dictionary as a dictionary\n",
    "    # with the key being the name of the feature as a string\n",
    "    # the value being the value of the coefficients\n",
    "    # do not return the intercept as part of this\n",
    "    return coefficients_dictionary\n",
    "\n",
    "def get_significant_predictors(regression_coefficients, significance_level):\n",
    "    \"\"\"Returns the significant predictors from a model\n",
    "    \n",
    "    Args:\n",
    "        regression_coefficients: a list of dictionaries containing the regression coefficients\n",
    "        of models made from different samples\n",
    "        significance_level: the alpha-level used to determine feature significance\n",
    "    \n",
    "    Returns:\n",
    "        significant_coefficients: a list of the significant feature names\n",
    "        \"\"\"\n",
    "        \n",
    "    # initialize a DataFrame to contain a list of the column names \n",
    "    coefficient_values = pd.DataFrame(index=list(regression_coefficients[0].keys()))\n",
    "    \n",
    "    # Store all of the values from each bootstrap sample in a column\n",
    "    for row, cur_sample in enumerate(regression_coefficients):\n",
    "        coefficient_values[row] = cur_sample.values()\n",
    "        \n",
    "    # Transpose the DataFrame so that each row now represents one Bootstrap sample\n",
    "    coefficient_values = coefficient_values.T\n",
    "    \n",
    "    # Initialize significant_coefficients to an empty list\n",
    "    significant_coefficients = []\n",
    "    \n",
    "    # Store the upper and lower percentile bounds\n",
    "    lower_bound = significance_level/2 * 100\n",
    "    upper_bound = 100 - lower_bound\n",
    "\n",
    "    # Iterate through all of coefficient_values and determine which coefficients are significant\n",
    "    for index_column, col in enumerate(coefficient_values): \n",
    "        if not(((np.percentile(coefficient_values[col], lower_bound ) < 0)) & ((np.percentile(coefficient_values[col], upper_bound) > 0))):\n",
    "            significant_coefficients.append(coefficient_values.columns[index_column])\n",
    "    \n",
    "    # return significant_coefficients\n",
    "    return significant_coefficients\n",
    "\n",
    "# Initialize the list of coefficients\n",
    "boot_coefs = [np.nan]*500\n",
    "\n",
    "# Create 500 Bootstrap samples\n",
    "for i in range(500):\n",
    "    boot_x, boot_y = make_bootstrap_sample(X_train, y_train)\n",
    "    boot_coefs[i] = calculate_coefficients(boot_x, boot_y, LinearRegression())\n",
    "\n",
    "# Store the significant predictors\n",
    "lin_missile_significant_bootstrap = get_significant_predictors(boot_coefs, 0.05)\n",
    "\n",
    "# Print the significant predictors\n",
    "print(\"\\033[1mSignificant Predictors:\\033[0m\\n{0}\".format(lin_missile_significant_bootstrap))"
   ]
  },
  {
   "cell_type": "code",
   "execution_count": 125,
   "metadata": {},
   "outputs": [
    {
     "data": {
      "text/plain": [
       "162"
      ]
     },
     "execution_count": 125,
     "metadata": {},
     "output_type": "execute_result"
    }
   ],
   "source": [
    "len(['Unnamed: 0', 'Unnamed: 0.1', 'Bicycle_pcnt', 'Bus_pcnt', 'CarDrvr_pcnt', 'CarPsngr_pcnt', 'DistrictCode', 'FiveYrsUnknSA_pcnt', 'IndstN_pcnt', 'IndstO_pcnt', 'LaborForceY_thou', 'MetrCode', 'NatRegCode', 'OnFoot_pcnt', 'OtherCertA_pcnt', 'OtherVehicle_pcnt', 'PostSecondaryCert_pcnt', 'SubDistrictCode', 'Train_pcnt', 'TypeLocCode', 'Vehicle1up_pcnt', 'Vehicle2up_pcnt', 'WorkPlace_pcnt', 'Wrk2008Y_pcnt', 'Wrk2008_15_17_pcnt', 'age10_14_pcnt', 'age15_24_thou', 'age25_29_pcnt', 'age30_34_pcnt', 'age40_44_pcnt', 'age55_64_thou', 'age65_thou', 'age75_79_pcnt', 'age80_84_pcnt', 'age85_pcnt', 'age_median', 'aliya1947_pcnt', 'aliya1960_pcnt', 'aliya2002_pcnt', 'aliya48_54_pcnt', 'aliya55_60_pcnt', 'aliya61_71_pcnt', 'aliya72_79_pcnt', 'aliya90_01_pcnt', 'cellphone_avg', 'divorced15_24_pcnt', 'divorced35_44_pcnt', 'divorced45_54_pcnt', 'divorced55_64_pcnt', 'dress65_pcnt', 'educ13_15_pcnt', 'educ13m_pcnt', 'educ8_pcnt', 'hh0_17_4_pcnt', 'hh0_17_5_pcnt', 'hh65_pcnt', 'inst_pcnt', 'm_IndstA_pcnt', 'm_IndstG_pcnt', 'm_IndstJ_pcnt', 'm_IndstO_pcnt', 'm_LaborForceY_thou', 'm_MarriageAge_mdn', 'm_Occup5_pcnt', 'm_OtherCertA_pcnt', 'm_PostSecondaryCert_pcnt', 'm_age0_4_pcnt', 'm_age10_14_pcnt', 'm_age15_24_thou', 'm_age15sef_thou', 'm_age20_24_pcnt', 'm_age30_34_pcnt', 'm_age40_44_pcnt', 'm_age55_59_pcnt', 'm_age55_64_thou', 'm_age65_69_pcnt', 'm_age65m_pcnt', 'm_age70_74_pcnt', 'm_age80_84_pcnt', 'm_divorced25_34_pcnt', 'm_divorced35_44_pcnt', 'm_educ13_15_pcnt', 'm_educ16_pcnt', 'm_educ9_12_pcnt', 'm_married15_24_pcnt', 'm_married25_34_pcnt', 'm_married35_44_pcnt', 'm_nevermarried15_24_pcnt', 'm_nevermarried25_34_pcnt', 'm_nevermarried35_44_pcnt', 'm_nevermarried45_54_pcnt', 'm_remember5_pcnt', 'm_widowed25_34_pcnt', 'married15_24_pcnt', 'married45_54_pcnt', 'married55_64_pcnt', 'nevermarried15_24_pcnt', 'nevermarried55_64_pcnt', 'remember65_pcnt', 'rm4_pcnt', 'rm5up_pcnt', 'rm6_pcnt', 'see65_pcnt', 'size5_pcnt', 'w_HrsWrkWk_avg', 'w_IndstC_pcnt', 'w_IndstF_pcnt', 'w_IndstJ_pcnt', 'w_IndstN_pcnt', 'w_LaborForceN_thou', 'w_MarriageAge_mdn', 'w_Occup2_pcnt', 'w_Occup5_pcnt', 'w_OccupX_pcnt', 'w_OtherCertA_pcnt', 'w_PostSecondaryCert_pcnt', 'w_TrnsprtMore_pcnt', 'w_TrnsprtOne_pcnt', 'w_age15_19_pcnt', 'w_age15_24_thou', 'w_age25_29_pcnt', 'w_age40_44_pcnt', 'w_age45_54_thou', 'w_age5_9_pcnt', 'w_age60_64_pcnt', 'w_age65_69_pcnt', 'w_age65_thou', 'w_age75_79_pcnt', 'w_divorced15_24_pcnt', 'w_divorced35_44_pcnt', 'w_divorced45_54_pcnt', 'w_divorced55_64_pcnt', 'w_divorced65_pcnt', 'w_divorced_pcnt', 'w_educ13_15_pcnt', 'w_educ16_pcnt', 'w_educ8_pcnt', 'w_educ9_12_pcnt', 'w_married35_44_pcnt', 'w_married45_54_pcnt', 'w_married55_64_pcnt', 'w_married65_pcnt', 'w_nevermarried15_24_pcnt', 'w_nevermarried45_54_pcnt', 'w_nevermarried55_64_pcnt', 'w_nevermarried65_pcnt', 'w_nevermarried_pcnt', 'w_notmarried_pcnt', 'w_see5_pcnt', 'w_widowed15_24_pcnt', 'w_widowed25_34_pcnt', 'w_widowed35_44_pcnt', 'w_widowed45_54_pcnt', 'w_widowed55_64_pcnt', 'w_widowed65_pcnt', 'walk5_pcnt', 'widowed15_24_pcnt', 'widowed25_34_pcnt', 'widowed45_54_pcnt', 'widowed55_64_pcnt', 'wrk2008m_pcnt', 'distance_from_gaza'])"
   ]
  },
  {
   "cell_type": "code",
   "execution_count": 127,
   "metadata": {},
   "outputs": [],
   "source": [
    "X_sig1 = X[['Unnamed: 0', 'Unnamed: 0.1', 'Bicycle_pcnt', 'Bus_pcnt', 'CarDrvr_pcnt', 'CarPsngr_pcnt', 'DistrictCode', 'FiveYrsUnknSA_pcnt', 'IndstN_pcnt', 'IndstO_pcnt', 'LaborForceY_thou', 'MetrCode', 'NatRegCode', 'OnFoot_pcnt', 'OtherCertA_pcnt', 'OtherVehicle_pcnt', 'PostSecondaryCert_pcnt', 'SubDistrictCode', 'Train_pcnt', 'TypeLocCode', 'Vehicle1up_pcnt', 'Vehicle2up_pcnt', 'WorkPlace_pcnt', 'Wrk2008Y_pcnt', 'Wrk2008_15_17_pcnt', 'age10_14_pcnt', 'age15_24_thou', 'age25_29_pcnt', 'age30_34_pcnt', 'age40_44_pcnt', 'age55_64_thou', 'age65_thou', 'age75_79_pcnt', 'age80_84_pcnt', 'age85_pcnt', 'age_median', 'aliya1947_pcnt', 'aliya1960_pcnt', 'aliya2002_pcnt', 'aliya48_54_pcnt', 'aliya55_60_pcnt', 'aliya61_71_pcnt', 'aliya72_79_pcnt', 'aliya90_01_pcnt', 'cellphone_avg', 'divorced15_24_pcnt', 'divorced35_44_pcnt', 'divorced45_54_pcnt', 'divorced55_64_pcnt', 'dress65_pcnt', 'educ13_15_pcnt', 'educ13m_pcnt', 'educ8_pcnt', 'hh0_17_4_pcnt', 'hh0_17_5_pcnt', 'hh65_pcnt', 'inst_pcnt', 'm_IndstA_pcnt', 'm_IndstG_pcnt', 'm_IndstJ_pcnt', 'm_IndstO_pcnt', 'm_LaborForceY_thou', 'm_MarriageAge_mdn', 'm_Occup5_pcnt', 'm_OtherCertA_pcnt', 'm_PostSecondaryCert_pcnt', 'm_age0_4_pcnt', 'm_age10_14_pcnt', 'm_age15_24_thou', 'm_age15sef_thou', 'm_age20_24_pcnt', 'm_age30_34_pcnt', 'm_age40_44_pcnt', 'm_age55_59_pcnt', 'm_age55_64_thou', 'm_age65_69_pcnt', 'm_age65m_pcnt', 'm_age70_74_pcnt', 'm_age80_84_pcnt', 'm_divorced25_34_pcnt', 'm_divorced35_44_pcnt', 'm_educ13_15_pcnt', 'm_educ16_pcnt', 'm_educ9_12_pcnt', 'm_married15_24_pcnt', 'm_married25_34_pcnt', 'm_married35_44_pcnt', 'm_nevermarried15_24_pcnt', 'm_nevermarried25_34_pcnt', 'm_nevermarried35_44_pcnt', 'm_nevermarried45_54_pcnt', 'm_remember5_pcnt', 'm_widowed25_34_pcnt', 'married15_24_pcnt', 'married45_54_pcnt', 'married55_64_pcnt', 'nevermarried15_24_pcnt', 'nevermarried55_64_pcnt', 'remember65_pcnt', 'rm4_pcnt', 'rm5up_pcnt', 'rm6_pcnt', 'see65_pcnt', 'size5_pcnt', 'w_HrsWrkWk_avg', 'w_IndstC_pcnt', 'w_IndstF_pcnt', 'w_IndstJ_pcnt', 'w_IndstN_pcnt', 'w_LaborForceN_thou', 'w_MarriageAge_mdn', 'w_Occup2_pcnt', 'w_Occup5_pcnt', 'w_OccupX_pcnt', 'w_OtherCertA_pcnt', 'w_PostSecondaryCert_pcnt', 'w_TrnsprtMore_pcnt', 'w_TrnsprtOne_pcnt', 'w_age15_19_pcnt', 'w_age15_24_thou', 'w_age25_29_pcnt', 'w_age40_44_pcnt', 'w_age45_54_thou', 'w_age5_9_pcnt', 'w_age60_64_pcnt', 'w_age65_69_pcnt', 'w_age65_thou', 'w_age75_79_pcnt', 'w_divorced15_24_pcnt', 'w_divorced35_44_pcnt', 'w_divorced45_54_pcnt', 'w_divorced55_64_pcnt', 'w_divorced65_pcnt', 'w_divorced_pcnt', 'w_educ13_15_pcnt', 'w_educ16_pcnt', 'w_educ8_pcnt', 'w_educ9_12_pcnt', 'w_married35_44_pcnt', 'w_married45_54_pcnt', 'w_married55_64_pcnt', 'w_married65_pcnt', 'w_nevermarried15_24_pcnt', 'w_nevermarried45_54_pcnt', 'w_nevermarried55_64_pcnt', 'w_nevermarried65_pcnt', 'w_nevermarried_pcnt', 'w_notmarried_pcnt', 'w_see5_pcnt', 'w_widowed15_24_pcnt', 'w_widowed25_34_pcnt', 'w_widowed35_44_pcnt', 'w_widowed45_54_pcnt', 'w_widowed55_64_pcnt', 'w_widowed65_pcnt', 'walk5_pcnt', 'widowed15_24_pcnt', 'widowed25_34_pcnt', 'widowed45_54_pcnt', 'widowed55_64_pcnt', 'wrk2008m_pcnt', 'distance_from_gaza']]"
   ]
  },
  {
   "cell_type": "code",
   "execution_count": 128,
   "metadata": {},
   "outputs": [
    {
     "name": "stdout",
     "output_type": "stream",
     "text": [
      "\u001b[1mSignificant Predictors:\u001b[0m\n",
      "['Unnamed: 0', 'Unnamed: 0.1', 'Bicycle_pcnt', 'Bus_pcnt', 'CarDrvr_pcnt', 'CarPsngr_pcnt', 'DistrictCode', 'IndstO_pcnt', 'LaborForceY_thou', 'MetrCode', 'NatRegCode', 'OnFoot_pcnt', 'OtherCertA_pcnt', 'OtherVehicle_pcnt', 'PostSecondaryCert_pcnt', 'SubDistrictCode', 'Train_pcnt', 'TypeLocCode', 'Vehicle1up_pcnt', 'Vehicle2up_pcnt', 'WorkPlace_pcnt', 'Wrk2008Y_pcnt', 'Wrk2008_15_17_pcnt', 'age10_14_pcnt', 'age15_24_thou', 'age25_29_pcnt', 'age30_34_pcnt', 'age40_44_pcnt', 'age55_64_thou', 'age65_thou', 'age75_79_pcnt', 'age80_84_pcnt', 'age_median', 'aliya1947_pcnt', 'aliya55_60_pcnt', 'aliya61_71_pcnt', 'cellphone_avg', 'divorced35_44_pcnt', 'divorced45_54_pcnt', 'divorced55_64_pcnt', 'dress65_pcnt', 'educ13_15_pcnt', 'educ13m_pcnt', 'educ8_pcnt', 'hh0_17_5_pcnt', 'hh65_pcnt', 'm_IndstG_pcnt', 'm_IndstJ_pcnt', 'm_IndstO_pcnt', 'm_LaborForceY_thou', 'm_MarriageAge_mdn', 'm_Occup5_pcnt', 'm_OtherCertA_pcnt', 'm_PostSecondaryCert_pcnt', 'm_age0_4_pcnt', 'm_age10_14_pcnt', 'm_age15_24_thou', 'm_age15sef_thou', 'm_age30_34_pcnt', 'm_age40_44_pcnt', 'm_age55_59_pcnt', 'm_age55_64_thou', 'm_age65_69_pcnt', 'm_age65m_pcnt', 'm_age70_74_pcnt', 'm_divorced25_34_pcnt', 'm_divorced35_44_pcnt', 'm_educ13_15_pcnt', 'm_educ16_pcnt', 'm_educ9_12_pcnt', 'm_married25_34_pcnt', 'm_married35_44_pcnt', 'm_nevermarried15_24_pcnt', 'm_nevermarried25_34_pcnt', 'm_nevermarried45_54_pcnt', 'm_remember5_pcnt', 'm_widowed25_34_pcnt', 'married15_24_pcnt', 'married45_54_pcnt', 'married55_64_pcnt', 'nevermarried15_24_pcnt', 'nevermarried55_64_pcnt', 'remember65_pcnt', 'rm4_pcnt', 'rm6_pcnt', 'see65_pcnt', 'size5_pcnt', 'w_HrsWrkWk_avg', 'w_IndstC_pcnt', 'w_IndstF_pcnt', 'w_LaborForceN_thou', 'w_Occup5_pcnt', 'w_OccupX_pcnt', 'w_OtherCertA_pcnt', 'w_PostSecondaryCert_pcnt', 'w_age15_24_thou', 'w_age40_44_pcnt', 'w_age5_9_pcnt', 'w_age60_64_pcnt', 'w_age65_69_pcnt', 'w_age65_thou', 'w_divorced35_44_pcnt', 'w_divorced55_64_pcnt', 'w_divorced65_pcnt', 'w_educ13_15_pcnt', 'w_educ16_pcnt', 'w_educ8_pcnt', 'w_educ9_12_pcnt', 'w_married55_64_pcnt', 'w_married65_pcnt', 'w_nevermarried15_24_pcnt', 'w_nevermarried65_pcnt', 'w_nevermarried_pcnt', 'w_see5_pcnt', 'w_widowed55_64_pcnt', 'w_widowed65_pcnt', 'walk5_pcnt', 'widowed25_34_pcnt', 'widowed45_54_pcnt', 'widowed55_64_pcnt', 'wrk2008m_pcnt', 'distance_from_gaza']\n"
     ]
    }
   ],
   "source": [
    "# re split\n",
    "X_train, X_test, y_train, y_test = train_test_split(X_sig1, y, test_size=0.2, random_state=42)\n",
    "\n",
    "# Initialize the list of coefficients\n",
    "boot_coefs = [np.nan]*500\n",
    "\n",
    "# Create 500 Bootstrap samples\n",
    "for i in range(500):\n",
    "    boot_x, boot_y = make_bootstrap_sample(X_train, y_train)\n",
    "    boot_coefs[i] = calculate_coefficients(boot_x, boot_y, LinearRegression())\n",
    "\n",
    "# Store the significant predictors\n",
    "lin_missile_significant_bootstrap = get_significant_predictors(boot_coefs, 0.05)\n",
    "\n",
    "\n",
    "# Print the significant predictors\n",
    "print(\"\\033[1mSignificant Predictors:\\033[0m\\n{0}\".format(lin_missile_significant_bootstrap))"
   ]
  },
  {
   "cell_type": "code",
   "execution_count": 129,
   "metadata": {},
   "outputs": [
    {
     "data": {
      "text/plain": [
       "122"
      ]
     },
     "execution_count": 129,
     "metadata": {},
     "output_type": "execute_result"
    }
   ],
   "source": [
    "len(['Unnamed: 0', 'Unnamed: 0.1', 'Bicycle_pcnt', 'Bus_pcnt', 'CarDrvr_pcnt', 'CarPsngr_pcnt', 'DistrictCode', 'IndstO_pcnt', 'LaborForceY_thou', 'MetrCode', 'NatRegCode', 'OnFoot_pcnt', 'OtherCertA_pcnt', 'OtherVehicle_pcnt', 'PostSecondaryCert_pcnt', 'SubDistrictCode', 'Train_pcnt', 'TypeLocCode', 'Vehicle1up_pcnt', 'Vehicle2up_pcnt', 'WorkPlace_pcnt', 'Wrk2008Y_pcnt', 'Wrk2008_15_17_pcnt', 'age10_14_pcnt', 'age15_24_thou', 'age25_29_pcnt', 'age30_34_pcnt', 'age40_44_pcnt', 'age55_64_thou', 'age65_thou', 'age75_79_pcnt', 'age80_84_pcnt', 'age_median', 'aliya1947_pcnt', 'aliya55_60_pcnt', 'aliya61_71_pcnt', 'cellphone_avg', 'divorced35_44_pcnt', 'divorced45_54_pcnt', 'divorced55_64_pcnt', 'dress65_pcnt', 'educ13_15_pcnt', 'educ13m_pcnt', 'educ8_pcnt', 'hh0_17_5_pcnt', 'hh65_pcnt', 'm_IndstG_pcnt', 'm_IndstJ_pcnt', 'm_IndstO_pcnt', 'm_LaborForceY_thou', 'm_MarriageAge_mdn', 'm_Occup5_pcnt', 'm_OtherCertA_pcnt', 'm_PostSecondaryCert_pcnt', 'm_age0_4_pcnt', 'm_age10_14_pcnt', 'm_age15_24_thou', 'm_age15sef_thou', 'm_age30_34_pcnt', 'm_age40_44_pcnt', 'm_age55_59_pcnt', 'm_age55_64_thou', 'm_age65_69_pcnt', 'm_age65m_pcnt', 'm_age70_74_pcnt', 'm_divorced25_34_pcnt', 'm_divorced35_44_pcnt', 'm_educ13_15_pcnt', 'm_educ16_pcnt', 'm_educ9_12_pcnt', 'm_married25_34_pcnt', 'm_married35_44_pcnt', 'm_nevermarried15_24_pcnt', 'm_nevermarried25_34_pcnt', 'm_nevermarried45_54_pcnt', 'm_remember5_pcnt', 'm_widowed25_34_pcnt', 'married15_24_pcnt', 'married45_54_pcnt', 'married55_64_pcnt', 'nevermarried15_24_pcnt', 'nevermarried55_64_pcnt', 'remember65_pcnt', 'rm4_pcnt', 'rm6_pcnt', 'see65_pcnt', 'size5_pcnt', 'w_HrsWrkWk_avg', 'w_IndstC_pcnt', 'w_IndstF_pcnt', 'w_LaborForceN_thou', 'w_Occup5_pcnt', 'w_OccupX_pcnt', 'w_OtherCertA_pcnt', 'w_PostSecondaryCert_pcnt', 'w_age15_24_thou', 'w_age40_44_pcnt', 'w_age5_9_pcnt', 'w_age60_64_pcnt', 'w_age65_69_pcnt', 'w_age65_thou', 'w_divorced35_44_pcnt', 'w_divorced55_64_pcnt', 'w_divorced65_pcnt', 'w_educ13_15_pcnt', 'w_educ16_pcnt', 'w_educ8_pcnt', 'w_educ9_12_pcnt', 'w_married55_64_pcnt', 'w_married65_pcnt', 'w_nevermarried15_24_pcnt', 'w_nevermarried65_pcnt', 'w_nevermarried_pcnt', 'w_see5_pcnt', 'w_widowed55_64_pcnt', 'w_widowed65_pcnt', 'walk5_pcnt', 'widowed25_34_pcnt', 'widowed45_54_pcnt', 'widowed55_64_pcnt', 'wrk2008m_pcnt', 'distance_from_gaza'])"
   ]
  },
  {
   "cell_type": "code",
   "execution_count": 133,
   "metadata": {},
   "outputs": [],
   "source": [
    "X_sig2 = X[['Bicycle_pcnt', 'Bus_pcnt', 'CarDrvr_pcnt', 'CarPsngr_pcnt', 'DistrictCode', 'IndstO_pcnt', 'LaborForceY_thou', 'MetrCode', 'NatRegCode', 'OnFoot_pcnt', 'OtherCertA_pcnt', 'OtherVehicle_pcnt', 'PostSecondaryCert_pcnt', 'SubDistrictCode', 'Train_pcnt', 'TypeLocCode', 'Vehicle1up_pcnt', 'Vehicle2up_pcnt', 'WorkPlace_pcnt', 'Wrk2008Y_pcnt', 'Wrk2008_15_17_pcnt', 'age10_14_pcnt', 'age15_24_thou', 'age25_29_pcnt', 'age30_34_pcnt', 'age40_44_pcnt', 'age55_64_thou', 'age65_thou', 'age75_79_pcnt', 'age80_84_pcnt', 'age_median', 'aliya1947_pcnt', 'aliya55_60_pcnt', 'aliya61_71_pcnt', 'cellphone_avg', 'divorced35_44_pcnt', 'divorced45_54_pcnt', 'divorced55_64_pcnt', 'dress65_pcnt', 'educ13_15_pcnt', 'educ13m_pcnt', 'educ8_pcnt', 'hh0_17_5_pcnt', 'hh65_pcnt', 'm_IndstG_pcnt', 'm_IndstJ_pcnt', 'm_IndstO_pcnt', 'm_LaborForceY_thou', 'm_MarriageAge_mdn', 'm_Occup5_pcnt', 'm_OtherCertA_pcnt', 'm_PostSecondaryCert_pcnt', 'm_age0_4_pcnt', 'm_age10_14_pcnt', 'm_age15_24_thou', 'm_age15sef_thou', 'm_age30_34_pcnt', 'm_age40_44_pcnt', 'm_age55_59_pcnt', 'm_age55_64_thou', 'm_age65_69_pcnt', 'm_age65m_pcnt', 'm_age70_74_pcnt', 'm_divorced25_34_pcnt', 'm_divorced35_44_pcnt', 'm_educ13_15_pcnt', 'm_educ16_pcnt', 'm_educ9_12_pcnt', 'm_married25_34_pcnt', 'm_married35_44_pcnt', 'm_nevermarried15_24_pcnt', 'm_nevermarried25_34_pcnt', 'm_nevermarried45_54_pcnt', 'm_remember5_pcnt', 'm_widowed25_34_pcnt', 'married15_24_pcnt', 'married45_54_pcnt', 'married55_64_pcnt', 'nevermarried15_24_pcnt', 'nevermarried55_64_pcnt', 'remember65_pcnt', 'rm4_pcnt', 'rm6_pcnt', 'see65_pcnt', 'size5_pcnt', 'w_HrsWrkWk_avg', 'w_IndstC_pcnt', 'w_IndstF_pcnt', 'w_LaborForceN_thou', 'w_Occup5_pcnt', 'w_OccupX_pcnt', 'w_OtherCertA_pcnt', 'w_PostSecondaryCert_pcnt', 'w_age15_24_thou', 'w_age40_44_pcnt', 'w_age5_9_pcnt', 'w_age60_64_pcnt', 'w_age65_69_pcnt', 'w_age65_thou', 'w_divorced35_44_pcnt', 'w_divorced55_64_pcnt', 'w_divorced65_pcnt', 'w_educ13_15_pcnt', 'w_educ16_pcnt', 'w_educ8_pcnt', 'w_educ9_12_pcnt', 'w_married55_64_pcnt', 'w_married65_pcnt', 'w_nevermarried15_24_pcnt', 'w_nevermarried65_pcnt', 'w_nevermarried_pcnt', 'w_see5_pcnt', 'w_widowed55_64_pcnt', 'w_widowed65_pcnt', 'walk5_pcnt', 'widowed25_34_pcnt', 'widowed45_54_pcnt', 'widowed55_64_pcnt', 'wrk2008m_pcnt', 'distance_from_gaza']]"
   ]
  },
  {
   "cell_type": "code",
   "execution_count": 134,
   "metadata": {},
   "outputs": [
    {
     "name": "stdout",
     "output_type": "stream",
     "text": [
      "\u001b[1mSignificant Predictors:\u001b[0m\n",
      "['Bicycle_pcnt', 'Bus_pcnt', 'CarDrvr_pcnt', 'CarPsngr_pcnt', 'DistrictCode', 'IndstO_pcnt', 'LaborForceY_thou', 'MetrCode', 'NatRegCode', 'OnFoot_pcnt', 'OtherCertA_pcnt', 'OtherVehicle_pcnt', 'PostSecondaryCert_pcnt', 'SubDistrictCode', 'Train_pcnt', 'TypeLocCode', 'Vehicle1up_pcnt', 'Vehicle2up_pcnt', 'WorkPlace_pcnt', 'Wrk2008Y_pcnt', 'age10_14_pcnt', 'age15_24_thou', 'age25_29_pcnt', 'age30_34_pcnt', 'age40_44_pcnt', 'age55_64_thou', 'age65_thou', 'age75_79_pcnt', 'age_median', 'aliya1947_pcnt', 'aliya55_60_pcnt', 'aliya61_71_pcnt', 'cellphone_avg', 'divorced35_44_pcnt', 'divorced45_54_pcnt', 'divorced55_64_pcnt', 'dress65_pcnt', 'educ8_pcnt', 'hh0_17_5_pcnt', 'hh65_pcnt', 'm_IndstG_pcnt', 'm_IndstJ_pcnt', 'm_IndstO_pcnt', 'm_LaborForceY_thou', 'm_MarriageAge_mdn', 'm_Occup5_pcnt', 'm_OtherCertA_pcnt', 'm_PostSecondaryCert_pcnt', 'm_age0_4_pcnt', 'm_age10_14_pcnt', 'm_age15_24_thou', 'm_age15sef_thou', 'm_age30_34_pcnt', 'm_age40_44_pcnt', 'm_age55_59_pcnt', 'm_age55_64_thou', 'm_age65_69_pcnt', 'm_age65m_pcnt', 'm_divorced25_34_pcnt', 'm_divorced35_44_pcnt', 'm_educ13_15_pcnt', 'm_educ16_pcnt', 'm_educ9_12_pcnt', 'm_married25_34_pcnt', 'm_married35_44_pcnt', 'm_nevermarried15_24_pcnt', 'm_nevermarried25_34_pcnt', 'm_nevermarried45_54_pcnt', 'm_remember5_pcnt', 'married15_24_pcnt', 'married45_54_pcnt', 'married55_64_pcnt', 'nevermarried15_24_pcnt', 'nevermarried55_64_pcnt', 'rm4_pcnt', 'rm6_pcnt', 'see65_pcnt', 'size5_pcnt', 'w_HrsWrkWk_avg', 'w_IndstF_pcnt', 'w_LaborForceN_thou', 'w_OccupX_pcnt', 'w_OtherCertA_pcnt', 'w_PostSecondaryCert_pcnt', 'w_age15_24_thou', 'w_age40_44_pcnt', 'w_age5_9_pcnt', 'w_age60_64_pcnt', 'w_age65_69_pcnt', 'w_age65_thou', 'w_divorced35_44_pcnt', 'w_divorced55_64_pcnt', 'w_educ13_15_pcnt', 'w_educ8_pcnt', 'w_married55_64_pcnt', 'w_nevermarried15_24_pcnt', 'w_nevermarried65_pcnt', 'w_nevermarried_pcnt', 'w_see5_pcnt', 'w_widowed55_64_pcnt', 'walk5_pcnt', 'widowed25_34_pcnt', 'widowed45_54_pcnt', 'widowed55_64_pcnt', 'wrk2008m_pcnt']\n"
     ]
    }
   ],
   "source": [
    "# re split\n",
    "X_train, X_test, y_train, y_test = train_test_split(X_sig2, y, test_size=0.2, random_state=42)\n",
    "\n",
    "# Initialize the list of coefficients\n",
    "boot_coefs = [np.nan]*500\n",
    "\n",
    "# Create 500 Bootstrap samples\n",
    "for i in range(500):\n",
    "    boot_x, boot_y = make_bootstrap_sample(X_train, y_train)\n",
    "    boot_coefs[i] = calculate_coefficients(boot_x, boot_y, LinearRegression())\n",
    "\n",
    "# Store the significant predictors\n",
    "lin_missile_significant_bootstrap = get_significant_predictors(boot_coefs, 0.05)\n",
    "\n",
    "\n",
    "# Print the significant predictors\n",
    "print(\"\\033[1mSignificant Predictors:\\033[0m\\n{0}\".format(lin_missile_significant_bootstrap))"
   ]
  },
  {
   "cell_type": "code",
   "execution_count": 136,
   "metadata": {},
   "outputs": [],
   "source": [
    "sig_filter = ['Bicycle_pcnt', 'Bus_pcnt', 'CarDrvr_pcnt', 'CarPsngr_pcnt', 'DistrictCode', 'IndstO_pcnt', 'LaborForceY_thou', 'MetrCode', 'NatRegCode', 'OnFoot_pcnt', 'OtherCertA_pcnt', 'OtherVehicle_pcnt', 'PostSecondaryCert_pcnt', 'SubDistrictCode', 'Train_pcnt', 'TypeLocCode', 'Vehicle1up_pcnt', 'Vehicle2up_pcnt', 'WorkPlace_pcnt', 'Wrk2008Y_pcnt', 'age10_14_pcnt', 'age15_24_thou', 'age25_29_pcnt', 'age30_34_pcnt', 'age40_44_pcnt', 'age55_64_thou', 'age65_thou', 'age75_79_pcnt', 'age_median', 'aliya1947_pcnt', 'aliya55_60_pcnt', 'aliya61_71_pcnt', 'cellphone_avg', 'divorced35_44_pcnt', 'divorced45_54_pcnt', 'divorced55_64_pcnt', 'dress65_pcnt', 'educ8_pcnt', 'hh0_17_5_pcnt', 'hh65_pcnt', 'm_IndstG_pcnt', 'm_IndstJ_pcnt', 'm_IndstO_pcnt', 'm_LaborForceY_thou', 'm_MarriageAge_mdn', 'm_Occup5_pcnt', 'm_OtherCertA_pcnt', 'm_PostSecondaryCert_pcnt', 'm_age0_4_pcnt', 'm_age10_14_pcnt', 'm_age15_24_thou', 'm_age15sef_thou', 'm_age30_34_pcnt', 'm_age40_44_pcnt', 'm_age55_59_pcnt', 'm_age55_64_thou', 'm_age65_69_pcnt', 'm_age65m_pcnt', 'm_divorced25_34_pcnt', 'm_divorced35_44_pcnt', 'm_educ13_15_pcnt', 'm_educ16_pcnt', 'm_educ9_12_pcnt', 'm_married25_34_pcnt', 'm_married35_44_pcnt', 'm_nevermarried15_24_pcnt', 'm_nevermarried25_34_pcnt', 'm_nevermarried45_54_pcnt', 'm_remember5_pcnt', 'married15_24_pcnt', 'married45_54_pcnt', 'married55_64_pcnt', 'nevermarried15_24_pcnt', 'nevermarried55_64_pcnt', 'rm4_pcnt', 'rm6_pcnt', 'see65_pcnt', 'size5_pcnt', 'w_HrsWrkWk_avg', 'w_IndstF_pcnt', 'w_LaborForceN_thou', 'w_OccupX_pcnt', 'w_OtherCertA_pcnt', 'w_PostSecondaryCert_pcnt', 'w_age15_24_thou', 'w_age40_44_pcnt', 'w_age5_9_pcnt', 'w_age60_64_pcnt', 'w_age65_69_pcnt', 'w_age65_thou', 'w_divorced35_44_pcnt', 'w_divorced55_64_pcnt', 'w_educ13_15_pcnt', 'w_educ8_pcnt', 'w_married55_64_pcnt', 'w_nevermarried15_24_pcnt', 'w_nevermarried65_pcnt', 'w_nevermarried_pcnt', 'w_see5_pcnt', 'w_widowed55_64_pcnt', 'walk5_pcnt', 'widowed25_34_pcnt', 'widowed45_54_pcnt', 'widowed55_64_pcnt', 'wrk2008m_pcnt']\n",
    "\n",
    "X_sig3 = X[sig_filter]"
   ]
  },
  {
   "cell_type": "code",
   "execution_count": 140,
   "metadata": {},
   "outputs": [],
   "source": [
    "scaler = MinMaxScaler()\n",
    "X_sig3_normalized = pd.DataFrame(data = scaler.fit_transform(X_sig3), columns = sig_filter)"
   ]
  },
  {
   "cell_type": "code",
   "execution_count": 141,
   "metadata": {},
   "outputs": [
    {
     "name": "stdout",
     "output_type": "stream",
     "text": [
      "\u001b[1mSignificant Predictors:\u001b[0m\n",
      "['Bicycle_pcnt', 'Bus_pcnt', 'CarDrvr_pcnt', 'CarPsngr_pcnt', 'DistrictCode', 'IndstO_pcnt', 'LaborForceY_thou', 'MetrCode', 'NatRegCode', 'OnFoot_pcnt', 'OtherCertA_pcnt', 'OtherVehicle_pcnt', 'PostSecondaryCert_pcnt', 'SubDistrictCode', 'Train_pcnt', 'TypeLocCode', 'Vehicle1up_pcnt', 'Vehicle2up_pcnt', 'WorkPlace_pcnt', 'Wrk2008Y_pcnt', 'age10_14_pcnt', 'age15_24_thou', 'age25_29_pcnt', 'age30_34_pcnt', 'age40_44_pcnt', 'age55_64_thou', 'age65_thou', 'age75_79_pcnt', 'age_median', 'aliya1947_pcnt', 'aliya55_60_pcnt', 'aliya61_71_pcnt', 'cellphone_avg', 'divorced35_44_pcnt', 'divorced45_54_pcnt', 'divorced55_64_pcnt', 'educ8_pcnt', 'hh0_17_5_pcnt', 'hh65_pcnt', 'm_IndstG_pcnt', 'm_IndstJ_pcnt', 'm_IndstO_pcnt', 'm_LaborForceY_thou', 'm_MarriageAge_mdn', 'm_Occup5_pcnt', 'm_OtherCertA_pcnt', 'm_PostSecondaryCert_pcnt', 'm_age0_4_pcnt', 'm_age10_14_pcnt', 'm_age15_24_thou', 'm_age15sef_thou', 'm_age30_34_pcnt', 'm_age40_44_pcnt', 'm_age55_59_pcnt', 'm_age55_64_thou', 'm_age65_69_pcnt', 'm_age65m_pcnt', 'm_divorced35_44_pcnt', 'm_educ13_15_pcnt', 'm_educ16_pcnt', 'm_educ9_12_pcnt', 'm_married25_34_pcnt', 'm_married35_44_pcnt', 'm_nevermarried15_24_pcnt', 'm_nevermarried25_34_pcnt', 'm_nevermarried45_54_pcnt', 'm_remember5_pcnt', 'married15_24_pcnt', 'married45_54_pcnt', 'married55_64_pcnt', 'nevermarried15_24_pcnt', 'nevermarried55_64_pcnt', 'rm4_pcnt', 'rm6_pcnt', 'w_HrsWrkWk_avg', 'w_IndstF_pcnt', 'w_LaborForceN_thou', 'w_OccupX_pcnt', 'w_OtherCertA_pcnt', 'w_PostSecondaryCert_pcnt', 'w_age15_24_thou', 'w_age40_44_pcnt', 'w_age5_9_pcnt', 'w_age60_64_pcnt', 'w_age65_69_pcnt', 'w_age65_thou', 'w_divorced35_44_pcnt', 'w_divorced55_64_pcnt', 'w_educ8_pcnt', 'w_married55_64_pcnt', 'w_nevermarried15_24_pcnt', 'w_nevermarried65_pcnt', 'w_nevermarried_pcnt', 'w_see5_pcnt', 'w_widowed55_64_pcnt', 'walk5_pcnt', 'widowed25_34_pcnt', 'widowed45_54_pcnt', 'widowed55_64_pcnt', 'wrk2008m_pcnt']\n"
     ]
    }
   ],
   "source": [
    "# re split\n",
    "X_train, X_test, y_train, y_test = train_test_split(X_sig3_normalized, y, test_size=0.2, random_state=42)\n",
    "\n",
    "# Initialize the list of coefficients\n",
    "boot_coefs = [np.nan]*500\n",
    "\n",
    "# Create 500 Bootstrap samples\n",
    "for i in range(500):\n",
    "    boot_x, boot_y = make_bootstrap_sample(X_train, y_train)\n",
    "    boot_coefs[i] = calculate_coefficients(boot_x, boot_y, LinearRegression())\n",
    "\n",
    "# Store the significant predictors\n",
    "lin_missile_significant_bootstrap = get_significant_predictors(boot_coefs, 0.05)\n",
    "\n",
    "\n",
    "# Print the significant predictors\n",
    "print(\"\\033[1mSignificant Predictors:\\033[0m\\n{0}\".format(lin_missile_significant_bootstrap))"
   ]
  },
  {
   "cell_type": "code",
   "execution_count": 143,
   "metadata": {},
   "outputs": [],
   "source": [
    "features_final = X_sig3_normalized[['Bicycle_pcnt', 'Bus_pcnt', 'CarDrvr_pcnt', 'CarPsngr_pcnt', 'DistrictCode', 'IndstO_pcnt', 'LaborForceY_thou', 'MetrCode', 'NatRegCode', 'OnFoot_pcnt', 'OtherCertA_pcnt', 'OtherVehicle_pcnt', 'PostSecondaryCert_pcnt', 'SubDistrictCode', 'Train_pcnt', 'TypeLocCode', 'Vehicle1up_pcnt', 'Vehicle2up_pcnt', 'WorkPlace_pcnt', 'Wrk2008Y_pcnt', 'age10_14_pcnt', 'age15_24_thou', 'age25_29_pcnt', 'age30_34_pcnt', 'age40_44_pcnt', 'age55_64_thou', 'age65_thou', 'age75_79_pcnt', 'age_median', 'aliya1947_pcnt', 'aliya55_60_pcnt', 'aliya61_71_pcnt', 'cellphone_avg', 'divorced35_44_pcnt', 'divorced45_54_pcnt', 'divorced55_64_pcnt', 'educ8_pcnt', 'hh0_17_5_pcnt', 'hh65_pcnt', 'm_IndstG_pcnt', 'm_IndstJ_pcnt', 'm_IndstO_pcnt', 'm_LaborForceY_thou', 'm_MarriageAge_mdn', 'm_Occup5_pcnt', 'm_OtherCertA_pcnt', 'm_PostSecondaryCert_pcnt', 'm_age0_4_pcnt', 'm_age10_14_pcnt', 'm_age15_24_thou', 'm_age15sef_thou', 'm_age30_34_pcnt', 'm_age40_44_pcnt', 'm_age55_59_pcnt', 'm_age55_64_thou', 'm_age65_69_pcnt', 'm_age65m_pcnt', 'm_divorced35_44_pcnt', 'm_educ13_15_pcnt', 'm_educ16_pcnt', 'm_educ9_12_pcnt', 'm_married25_34_pcnt', 'm_married35_44_pcnt', 'm_nevermarried15_24_pcnt', 'm_nevermarried25_34_pcnt', 'm_nevermarried45_54_pcnt', 'm_remember5_pcnt', 'married15_24_pcnt', 'married45_54_pcnt', 'married55_64_pcnt', 'nevermarried15_24_pcnt', 'nevermarried55_64_pcnt', 'rm4_pcnt', 'rm6_pcnt', 'w_HrsWrkWk_avg', 'w_IndstF_pcnt', 'w_LaborForceN_thou', 'w_OccupX_pcnt', 'w_OtherCertA_pcnt', 'w_PostSecondaryCert_pcnt', 'w_age15_24_thou', 'w_age40_44_pcnt', 'w_age5_9_pcnt', 'w_age60_64_pcnt', 'w_age65_69_pcnt', 'w_age65_thou', 'w_divorced35_44_pcnt', 'w_divorced55_64_pcnt', 'w_educ8_pcnt', 'w_married55_64_pcnt', 'w_nevermarried15_24_pcnt', 'w_nevermarried65_pcnt', 'w_nevermarried_pcnt', 'w_see5_pcnt', 'w_widowed55_64_pcnt', 'walk5_pcnt', 'widowed25_34_pcnt', 'widowed45_54_pcnt', 'widowed55_64_pcnt', 'wrk2008m_pcnt']]"
   ]
  },
  {
   "cell_type": "code",
   "execution_count": 144,
   "metadata": {},
   "outputs": [],
   "source": [
    "# re split\n",
    "X_train, X_test, y_train, y_test = train_test_split(features_final, y, test_size=0.2, random_state=42)"
   ]
  },
  {
   "cell_type": "code",
   "execution_count": 150,
   "metadata": {},
   "outputs": [
    {
     "name": "stdout",
     "output_type": "stream",
     "text": [
      "\u001b[1mR^2 Score on Test Set for Linear Model Predicting Rocket Instances:\u001b[0m 0.8882407721013853\n"
     ]
    }
   ],
   "source": [
    "final_model = LinearRegression()\n",
    "final_model.fit(X=X_train, y=y_train)\n",
    "\n",
    "print(\"\\033[1mR^2 Score on Test Set for Linear Model Predicting Rocket Instances:\\033[0m {0}\".format(r2_score(y_test, final_model.predict(X_test))))"
   ]
  },
  {
   "cell_type": "code",
   "execution_count": 151,
   "metadata": {},
   "outputs": [
    {
     "name": "stdout",
     "output_type": "stream",
     "text": [
      "[ 88.73004869 277.31495102 -16.0637925  ...  74.86567814 110.16218165\n",
      " 171.4362997 ]\n"
     ]
    }
   ],
   "source": [
    "print(final_model.predict(X_test))"
   ]
  },
  {
   "cell_type": "code",
   "execution_count": 152,
   "metadata": {},
   "outputs": [],
   "source": [
    "cleaned_data = features_final.copy()"
   ]
  },
  {
   "cell_type": "code",
   "execution_count": 153,
   "metadata": {},
   "outputs": [],
   "source": [
    "features_final[\"count\"] = y"
   ]
  },
  {
   "cell_type": "code",
   "execution_count": 156,
   "metadata": {},
   "outputs": [],
   "source": [
    "features_final.to_csv(\"FINAL_DATA_USED_FOR_LINEAR_REGRESSION.csv\")"
   ]
  },
  {
   "cell_type": "code",
   "execution_count": null,
   "metadata": {},
   "outputs": [],
   "source": []
  }
 ],
 "metadata": {
  "kernelspec": {
   "display_name": "Python 3",
   "language": "python",
   "name": "python3"
  },
  "language_info": {
   "codemirror_mode": {
    "name": "ipython",
    "version": 3
   },
   "file_extension": ".py",
   "mimetype": "text/x-python",
   "name": "python",
   "nbconvert_exporter": "python",
   "pygments_lexer": "ipython3",
   "version": "3.6.7"
  }
 },
 "nbformat": 4,
 "nbformat_minor": 2
}
